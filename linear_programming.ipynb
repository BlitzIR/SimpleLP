{
  "nbformat": 4,
  "nbformat_minor": 0,
  "metadata": {
    "colab": {
      "provenance": []
    },
    "kernelspec": {
      "name": "python3",
      "display_name": "Python 3"
    },
    "language_info": {
      "name": "python"
    }
  },
  "cells": [
    {
      "cell_type": "markdown",
      "source": [
        "**Step 0** - Install prerequesite software to ensure the code can run.\n",
        "\n",
        "In python, there are multiple libraries that are used for different code such as linear programming, displaying graphs, and math. These libraries must be downloaded before using code specific commands or else the code will not work."
      ],
      "metadata": {
        "id": "JB7QslYQbjul"
      }
    },
    {
      "cell_type": "code",
      "execution_count": 73,
      "metadata": {
        "colab": {
          "base_uri": "https://localhost:8080/"
        },
        "id": "LpBoIhCbnURc",
        "outputId": "e31b9d6b-ce44-40ee-bcd3-91c86f5dd79b"
      },
      "outputs": [
        {
          "output_type": "stream",
          "name": "stdout",
          "text": [
            "Requirement already satisfied: cplex in /usr/local/lib/python3.11/dist-packages (22.1.2.0)\n",
            "Requirement already satisfied: docplex in /usr/local/lib/python3.11/dist-packages (2.29.241)\n",
            "Requirement already satisfied: six in /usr/local/lib/python3.11/dist-packages (from docplex) (1.17.0)\n"
          ]
        }
      ],
      "source": [
        "!pip install cplex\n",
        "!pip install docplex\n",
        "from docplex.mp.model import Model"
      ]
    },
    {
      "cell_type": "markdown",
      "source": [
        "**Step 1** - Initialize the model's name.\n",
        "\n",
        "In this step, we initialize the linear programming model with a model name."
      ],
      "metadata": {
        "id": "Ptg2Te7ohCe6"
      }
    },
    {
      "cell_type": "code",
      "source": [
        "LP_model= Model(name=\"Estimated amount of Beats Solo 3 headphones assembled to make a profit in January.\")\n"
      ],
      "metadata": {
        "id": "L_ppaVrtnghR"
      },
      "execution_count": 74,
      "outputs": []
    },
    {
      "cell_type": "markdown",
      "source": [
        "**Step 2** - Create continuous variables for the Solo 3 & Studio 3 headphones.\n",
        "\n",
        "If an integer variable is used, it creates a set number of headphones to be produced. In this instance, the answer for solo headphones would be 14 and 1 for the studio headphones. An integer variable should not be used since this calculation is made to estimate a profit and find the amount to produce, not to initially give it a number and constrain."
      ],
      "metadata": {
        "id": "oeO6OQR7hGzs"
      }
    },
    {
      "cell_type": "code",
      "source": [
        "X = LP_model.continuous_var(name=\"Studio 3\")\n",
        "Y = LP_model.continuous_var(name=\"Solo 3\")"
      ],
      "metadata": {
        "id": "RvVrNQp1nklx"
      },
      "execution_count": 75,
      "outputs": []
    },
    {
      "cell_type": "markdown",
      "source": [
        "**Step 3** - List the Variables\n",
        "\n",
        "Shown below are the variables such as component availability, hours available, production costs, team members, time to assemble, and profit goals. These variables will help give the problem integers and boundaries that the problem can use."
      ],
      "metadata": {
        "id": "ywv7chrLhJVn"
      }
    },
    {
      "cell_type": "code",
      "source": [
        "#Availability of Components\n",
        "\n",
        "headbands = 600\n",
        "earmuffs = 700\n",
        "electronics = 600\n",
        "\n",
        "#Jan hours available (10 hours per day/5 days per week)\n",
        "hours = 230\n",
        "\n",
        "#cost to assemble the beats studio and solo headphones\n",
        "studio_Production = 14\n",
        "solo_Production = 12\n",
        "\n",
        "#studio & solo production team members\n",
        "studio_Team = 18\n",
        "solo_Team = 15\n",
        "\n",
        "#parts required per headphones\n",
        "parts_solo = 3\n",
        "parts_studio = 3\n",
        "\n",
        "#time (hours) required to produce each unit\n",
        "time_stu = 1\n",
        "time_so = 1\n",
        "\n",
        "#profit goals\n",
        "profit_Studio = 320\n",
        "profit_Solo = 280"
      ],
      "metadata": {
        "id": "SQBfkw9XacnR"
      },
      "execution_count": 72,
      "outputs": []
    },
    {
      "cell_type": "markdown",
      "source": [
        "**Step 4** - Add constraints\n",
        "\n",
        "These constraints establish boundaries so an exact calculation and be received. For example, the cost of using the headbands for the Studio & Solo headphones should not exceed the amount of headbands given (600)."
      ],
      "metadata": {
        "id": "EzVNyuG8hm5H"
      }
    },
    {
      "cell_type": "code",
      "source": [
        "headband_Utility = LP_model.add_constraint(LP_model.sum([studio_Production*X, solo_Production*Y]) <= 600)\n",
        "earmuff_Utility = LP_model.add_constraint(LP_model.sum([studio_Production*X, solo_Production*Y]) <= 700)\n",
        "internal_components_Utility = LP_model.add_constraint(LP_model.sum([studio_Production*X, solo_Production*Y]) <= 600)"
      ],
      "metadata": {
        "id": "VULO90VRb3Et"
      },
      "execution_count": 76,
      "outputs": []
    },
    {
      "cell_type": "code",
      "source": [
        "january_Availability = LP_model.add_constraint(studio_Production * time_stu * X + solo_Production * time_so * Y <= 230)\n",
        "\n",
        "#this constraint sets the amount of hours available in January to produce the headphones"
      ],
      "metadata": {
        "id": "lRJ9wm5tZUwQ"
      },
      "execution_count": 77,
      "outputs": []
    },
    {
      "cell_type": "code",
      "source": [
        "manpower = LP_model.add_constraint(LP_model.sum([studio_Team*X, solo_Team*Y])<= 230)\n",
        "\n",
        "#this constraint sets that the workers production cannot exceed the 230 hours available in January"
      ],
      "metadata": {
        "id": "CQvUOKBscKR1"
      },
      "execution_count": 78,
      "outputs": []
    },
    {
      "cell_type": "markdown",
      "source": [
        "**Step 5** - Maximize\n",
        "\n",
        "The goal of this line is to see the maximum amount of headphones needed to make a hefty profit."
      ],
      "metadata": {
        "id": "pE66Kzi-hs3G"
      }
    },
    {
      "cell_type": "code",
      "source": [
        "LP_model.maximize(profit_Studio*X + profit_Solo*Y)"
      ],
      "metadata": {
        "id": "DuY-B8GNdLvT"
      },
      "execution_count": 79,
      "outputs": []
    },
    {
      "cell_type": "markdown",
      "source": [
        "**Step 6** - This line prints the information such as the number of variables, constrains, objective, and the problem type. These data values are useful in the solution output."
      ],
      "metadata": {
        "id": "xWmUgLBIhu1B"
      }
    },
    {
      "cell_type": "code",
      "source": [
        "LP_model.print_information()"
      ],
      "metadata": {
        "colab": {
          "base_uri": "https://localhost:8080/"
        },
        "id": "wcbsoVeZdPls",
        "outputId": "46d76838-abe8-47c3-c298-de048c92d6a4"
      },
      "execution_count": 80,
      "outputs": [
        {
          "output_type": "stream",
          "name": "stdout",
          "text": [
            "Model: Estimated amount of Beats Solo 3 headphones assembled to make a profit in January.\n",
            " - number of variables: 2\n",
            "   - binary=0, integer=0, continuous=2\n",
            " - number of constraints: 5\n",
            "   - linear=5\n",
            " - parameters: defaults\n",
            " - objective: maximize\n",
            " - problem type is: LP\n"
          ]
        }
      ]
    },
    {
      "cell_type": "markdown",
      "source": [
        "**Step 7** - This line solves the model."
      ],
      "metadata": {
        "id": "PU0ETg47hx2l"
      }
    },
    {
      "cell_type": "code",
      "source": [
        "sol= LP_model.solve()"
      ],
      "metadata": {
        "id": "Rqi_NeEFdPkA"
      },
      "execution_count": 81,
      "outputs": []
    },
    {
      "cell_type": "markdown",
      "source": [
        "**Step 8** - This line displays the calculations from the line of code above.\n",
        "\n",
        "The output shows that for a profit of $4,293,333, a total of 15,333 Beats Solo3 headphones must be made."
      ],
      "metadata": {
        "id": "FuTngsIMhz51"
      }
    },
    {
      "cell_type": "code",
      "source": [
        "sol.display()"
      ],
      "metadata": {
        "colab": {
          "base_uri": "https://localhost:8080/"
        },
        "id": "VG6NUXHCdUJW",
        "outputId": "5dd6f78f-6a75-40bd-f1d2-d95c194c9bd5"
      },
      "execution_count": 82,
      "outputs": [
        {
          "output_type": "stream",
          "name": "stdout",
          "text": [
            "solution for: Estimated amount of Beats Solo 3 headphones assembled to make a profit in January.\n",
            "objective: 4293.333\n",
            "status: OPTIMAL_SOLUTION(2)\n",
            "Solo 3 = 15.333\n"
          ]
        }
      ]
    },
    {
      "cell_type": "markdown",
      "source": [
        "**Notes, Complications, Edits**"
      ],
      "metadata": {
        "id": "ptQL2ZtjdVcx"
      }
    },
    {
      "cell_type": "markdown",
      "source": [
        "- More variables needed. There is more to headphone assembly than to have all the components lumped together. Each component (ex: Headphone jack, Apple Chip) must be individually counted for along with its cost and availability.\n",
        "- A profit goal of $1,200,000-$1,500,000 is far more realistic than $4.2 million.\n",
        "- I could not get the amount of Studio 3 headphones needed to show up in the solution.\n",
        "\n"
      ],
      "metadata": {
        "id": "7dsDmp1UcxhM"
      }
    },
    {
      "cell_type": "code",
      "source": [],
      "metadata": {
        "id": "Yq1Murs-dbWv"
      },
      "execution_count": null,
      "outputs": []
    }
  ]
}